{
 "cells": [
  {
   "cell_type": "code",
   "execution_count": 15,
   "metadata": {},
   "outputs": [
    {
     "name": "stdout",
     "output_type": "stream",
     "text": [
      "Спостерігач 1 отримав сповіщення: Важлива подія в системі!\n",
      "Спостерігач 2 отримав сповіщення: Важлива подія в системі!\n",
      "Спостерігач 3 отримав сповіщення: Важлива подія в системі!\n",
      "Спостерігач 1 отримав сповіщення: Ще одна подія в системі!\n",
      "Спостерігач 2 отримав сповіщення: Ще одна подія в системі!\n"
     ]
    }
   ],
   "source": [
    "from abc import ABC, abstractmethod\n",
    "\n",
    "# Абстрактний клас Спостерігача\n",
    "class Observer(ABC):\n",
    "    @abstractmethod\n",
    "    def update(self, message):\n",
    "        pass\n",
    "\n",
    "# Конкретний клас Спостерігача\n",
    "class ConcreteObserver(Observer):\n",
    "    def __init__(self, name):\n",
    "        self.name = name\n",
    "\n",
    "    def update(self, message):\n",
    "        print(f\"{self.name} отримав сповіщення: {message}\")\n",
    "\n",
    "# Абстрактний клас Суб'єкта\n",
    "class Subject(ABC):\n",
    "    @abstractmethod\n",
    "    def add_observer(self, observer):\n",
    "        pass\n",
    "\n",
    "    @abstractmethod\n",
    "    def remove_observer(self, observer):\n",
    "        pass\n",
    "\n",
    "    @abstractmethod\n",
    "    def notify_observers(self, message):\n",
    "        pass\n",
    "\n",
    "# Конкретний клас Суб'єкта\n",
    "class ConcreteSubject(Subject):\n",
    "    def __init__(self):\n",
    "        self.observers = []\n",
    "\n",
    "    def add_observer(self, observer):\n",
    "        if observer not in self.observers:\n",
    "            self.observers.append(observer)\n",
    "\n",
    "    def remove_observer(self, observer):\n",
    "        self.observers.remove(observer)\n",
    "\n",
    "    def notify_observers(self, message):\n",
    "        for observer in self.observers:\n",
    "            observer.update(message)\n",
    "\n",
    "# Використання паттерну\n",
    "if __name__ == \"__main__\":\n",
    "    # Створення спостерігачів\n",
    "    observer1 = ConcreteObserver(\"Спостерігач 1\")\n",
    "    observer2 = ConcreteObserver(\"Спостерігач 2\")\n",
    "    observer3 = ConcreteObserver(\"Спостерігач 3\")\n",
    "\n",
    "    # Створення суб'єкта\n",
    "    subject = ConcreteSubject()\n",
    "\n",
    "    # Підписка спостерігачів на суб'єкт\n",
    "    subject.add_observer(observer1)\n",
    "    subject.add_observer(observer2)\n",
    "    subject.add_observer(observer3)\n",
    "\n",
    "    # Сповіщення спостерігачів про подію\n",
    "    subject.notify_observers(\"Важлива подія в системі!\")\n",
    "\n",
    "    # Відписка спостерігача від суб'єкта\n",
    "    subject.remove_observer(observer3)\n",
    "\n",
    "    \n",
    "    # Знову сповіщення залишених спостерігачів\n",
    "    subject.notify_observers(\"Ще одна подія в системі!\")\n"
   ]
  }
 ],
 "metadata": {
  "kernelspec": {
   "display_name": "Python 3",
   "language": "python",
   "name": "python3"
  },
  "language_info": {
   "codemirror_mode": {
    "name": "ipython",
    "version": 3
   },
   "file_extension": ".py",
   "mimetype": "text/x-python",
   "name": "python",
   "nbconvert_exporter": "python",
   "pygments_lexer": "ipython3",
   "version": "3.12.1"
  }
 },
 "nbformat": 4,
 "nbformat_minor": 2
}
