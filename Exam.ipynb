{
 "cells": [
  {
   "cell_type": "code",
   "execution_count": 12,
   "metadata": {},
   "outputs": [
    {
     "ename": "NameError",
     "evalue": "name 'name' is not defined",
     "output_type": "error",
     "traceback": [
      "\u001b[1;31m---------------------------------------------------------------------------\u001b[0m",
      "\u001b[1;31mNameError\u001b[0m                                 Traceback (most recent call last)",
      "Cell \u001b[1;32mIn[12], line 48\u001b[0m\n\u001b[0;32m     45\u001b[0m             observer\u001b[38;5;241m.\u001b[39mupdate(message)\n\u001b[0;32m     47\u001b[0m \u001b[38;5;66;03m# Використання паттерну\u001b[39;00m\n\u001b[1;32m---> 48\u001b[0m \u001b[38;5;28;01mif\u001b[39;00m \u001b[43mname\u001b[49m \u001b[38;5;241m==\u001b[39m \u001b[38;5;124m\"\u001b[39m\u001b[38;5;124mmain\u001b[39m\u001b[38;5;124m\"\u001b[39m:\n\u001b[0;32m     49\u001b[0m     \u001b[38;5;66;03m# Створення спостерігачів\u001b[39;00m\n\u001b[0;32m     50\u001b[0m     observer1 \u001b[38;5;241m=\u001b[39m ConcreteObserver(\u001b[38;5;124m\"\u001b[39m\u001b[38;5;124mСпостерігач 1\u001b[39m\u001b[38;5;124m\"\u001b[39m)\n\u001b[0;32m     51\u001b[0m     observer2 \u001b[38;5;241m=\u001b[39m ConcreteObserver(\u001b[38;5;124m\"\u001b[39m\u001b[38;5;124mСпостерігач 2\u001b[39m\u001b[38;5;124m\"\u001b[39m)\n",
      "\u001b[1;31mNameError\u001b[0m: name 'name' is not defined"
     ]
    }
   ],
   "source": [
    "from abc import ABC, abstractmethod\n",
    "\n",
    "# Абстрактний клас Спостерігача\n",
    "class Observer(ABC):\n",
    "    @abstractmethod\n",
    "    def update(self, message):\n",
    "        pass\n",
    "\n",
    "# Конкретний клас Спостерігача\n",
    "class ConcreteObserver(Observer):\n",
    "    def __init__(self, name):\n",
    "        self.name = name\n",
    "\n",
    "    def update(self, message):\n",
    "        print(f\"{self.name} отримав сповіщення: {message}\")\n",
    "\n",
    "# Абстрактний клас Суб'єкта\n",
    "class Subject(ABC):\n",
    "    @abstractmethod\n",
    "    def add_observer(self, observer):\n",
    "        pass\n",
    "\n",
    "    @abstractmethod\n",
    "    def remove_observer(self, observer):\n",
    "        pass\n",
    "\n",
    "    @abstractmethod\n",
    "    def notify_observers(self, message):\n",
    "        pass\n",
    "\n",
    "# Конкретний клас Суб'єкта\n",
    "class ConcreteSubject(Subject):\n",
    "    def __init__(self):\n",
    "        self.observers = []\n",
    "\n",
    "    def add_observer(self, observer):\n",
    "        if observer not in self.observers:\n",
    "            self.observers.append(observer)\n",
    "\n",
    "    def remove_observer(self, observer):\n",
    "        self.observers.remove(observer)\n",
    "\n",
    "    def notify_observers(self, message):\n",
    "        for observer in self.observers:\n",
    "            observer.update(message)\n",
    "\n",
    "# Використання паттерну\n",
    "if __name__ == \"__main__\":\n",
    "    # Створення спостерігачів\n",
    "    observer1 = ConcreteObserver(\"Спостерігач 1\")\n",
    "    observer2 = ConcreteObserver(\"Спостерігач 2\")\n",
    "    observer3 = ConcreteObserver(\"Спостерігач 3\")\n",
    "\n",
    "    # Створення суб'єкта\n",
    "    subject = ConcreteSubject()\n",
    "\n",
    "    # Підписка спостерігачів на суб'єкт\n",
    "    subject.add_observer(observer1)\n",
    "    subject.add_observer(observer2)\n",
    "    subject.add_observer(observer3)\n",
    "\n",
    "    # Сповіщення спостерігачів про подію\n",
    "    subject.notify_observers(\"Важлива подія в системі!\")\n",
    "\n",
    "    # Відписка спостерігача від суб'єкта\n",
    "    subject.remove_observer(observer3)\n",
    "\n",
    "    \n",
    "    # Знову сповіщення залишених спостерігачів\n",
    "    subject.notify_observers(\"Ще одна подія в системі!\")\n"
   ]
  }
 ],
 "metadata": {
  "kernelspec": {
   "display_name": "Python 3",
   "language": "python",
   "name": "python3"
  },
  "language_info": {
   "codemirror_mode": {
    "name": "ipython",
    "version": 3
   },
   "file_extension": ".py",
   "mimetype": "text/x-python",
   "name": "python",
   "nbconvert_exporter": "python",
   "pygments_lexer": "ipython3",
   "version": "3.12.1"
  }
 },
 "nbformat": 4,
 "nbformat_minor": 2
}
